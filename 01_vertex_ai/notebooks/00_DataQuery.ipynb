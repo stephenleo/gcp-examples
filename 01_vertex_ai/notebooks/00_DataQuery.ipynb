{
 "cells": [
  {
   "cell_type": "markdown",
   "metadata": {},
   "source": [
    "# BigQuery data query"
   ]
  },
  {
   "cell_type": "code",
   "execution_count": 1,
   "metadata": {},
   "outputs": [],
   "source": [
    "from google.cloud import bigquery\n",
    "client = bigquery.Client()"
   ]
  },
  {
   "cell_type": "code",
   "execution_count": 2,
   "metadata": {},
   "outputs": [
    {
     "name": "stdout",
     "output_type": "stream",
     "text": [
      "(34952, 3)\n"
     ]
    },
    {
     "data": {
      "text/html": [
       "<div>\n",
       "<style scoped>\n",
       "    .dataframe tbody tr th:only-of-type {\n",
       "        vertical-align: middle;\n",
       "    }\n",
       "\n",
       "    .dataframe tbody tr th {\n",
       "        vertical-align: top;\n",
       "    }\n",
       "\n",
       "    .dataframe thead th {\n",
       "        text-align: right;\n",
       "    }\n",
       "</style>\n",
       "<table border=\"1\" class=\"dataframe\">\n",
       "  <thead>\n",
       "    <tr style=\"text-align: right;\">\n",
       "      <th></th>\n",
       "      <th>name</th>\n",
       "      <th>gender</th>\n",
       "      <th>num_names</th>\n",
       "    </tr>\n",
       "  </thead>\n",
       "  <tbody>\n",
       "    <tr>\n",
       "      <th>0</th>\n",
       "      <td>Helen</td>\n",
       "      <td>F</td>\n",
       "      <td>4846</td>\n",
       "    </tr>\n",
       "    <tr>\n",
       "      <th>1</th>\n",
       "      <td>Mary</td>\n",
       "      <td>F</td>\n",
       "      <td>5551</td>\n",
       "    </tr>\n",
       "    <tr>\n",
       "      <th>2</th>\n",
       "      <td>Margaret</td>\n",
       "      <td>F</td>\n",
       "      <td>5463</td>\n",
       "    </tr>\n",
       "    <tr>\n",
       "      <th>3</th>\n",
       "      <td>Dorothy</td>\n",
       "      <td>F</td>\n",
       "      <td>4474</td>\n",
       "    </tr>\n",
       "    <tr>\n",
       "      <th>4</th>\n",
       "      <td>Ruth</td>\n",
       "      <td>F</td>\n",
       "      <td>4946</td>\n",
       "    </tr>\n",
       "  </tbody>\n",
       "</table>\n",
       "</div>"
      ],
      "text/plain": [
       "       name gender  num_names\n",
       "0     Helen      F       4846\n",
       "1      Mary      F       5551\n",
       "2  Margaret      F       5463\n",
       "3   Dorothy      F       4474\n",
       "4      Ruth      F       4946"
      ]
     },
     "execution_count": 2,
     "metadata": {},
     "output_type": "execute_result"
    }
   ],
   "source": [
    "sql = \"\"\"\n",
    "SELECT\n",
    "  name,\n",
    "  gender,\n",
    "  COUNT(name) AS num_names\n",
    "FROM\n",
    "  `bigquery-public-data.usa_names.usa_1910_current`\n",
    "GROUP BY\n",
    "  name,\n",
    "  gender\n",
    "\"\"\"\n",
    "names_df = client.query(sql).to_dataframe()\n",
    "print(names_df.shape)\n",
    "names_df.head()"
   ]
  },
  {
   "cell_type": "code",
   "execution_count": 4,
   "metadata": {},
   "outputs": [],
   "source": [
    "# write to csv\n",
    "names_df[['name', 'gender']].to_csv(\"../data/us-names.csv\", index=False)"
   ]
  },
  {
   "cell_type": "markdown",
   "metadata": {},
   "source": [
    "# Writing to sharded tfrecords"
   ]
  },
  {
   "cell_type": "code",
   "execution_count": 1,
   "metadata": {},
   "outputs": [],
   "source": [
    "import tensorflow as tf\n",
    "import pandas as pd\n",
    "import numpy as np"
   ]
  },
  {
   "cell_type": "code",
   "execution_count": 4,
   "metadata": {},
   "outputs": [],
   "source": [
    "def write_tfrecord(prefix, chunk, idx):\n",
    "    # Set writing options with compression\n",
    "    #options = tf.io.TFRecordOptions(compression_type=\"ZLIB\", compression_level=9)\n",
    "    options = None\n",
    "    \n",
    "    with tf.io.TFRecordWriter(\"../data/tfrecords/us_names_\"+prefix+\"_{:>03d}\".format(idx)+\".tfrecord\", options=options) as writer:       \n",
    "        for row in chunk.values:\n",
    "            features, label = row[:-1], row[-1]\n",
    "            \n",
    "            name = tf.train.Feature(bytes_list=tf.train.BytesList(value=[features[0].encode(\"utf-8\")]))\n",
    "            gender = tf.train.Feature(bytes_list=tf.train.BytesList(value=[label.encode(\"utf-8\")]))\n",
    "\n",
    "            data_dict = tf.train.Features(feature={\"name\": name, \"gender\": gender})\n",
    "            example = tf.train.Example(features=data_dict)\n",
    "\n",
    "            writer.write(example.SerializeToString())\n",
    "\n",
    "def serialize(chunk_df):\n",
    "    # Serializes inputs from a pandas dataset (read in chunks)   \n",
    "    # Write each chunk into individual tfrecord (sharding)\n",
    "    for idx, chunk in enumerate(chunk_df):\n",
    "        chunk.dropna(how=\"any\", inplace=True)\n",
    "        train_chunk, val_chunk, test_chunk = np.split(chunk.sample(frac=1), [int(.7*len(chunk)), int(.9*len(chunk))])\n",
    "\n",
    "        write_tfrecord(\"train\", train_chunk, idx)\n",
    "        write_tfrecord(\"val\", val_chunk, idx)\n",
    "        write_tfrecord(\"test\", test_chunk, idx)"
   ]
  },
  {
   "cell_type": "code",
   "execution_count": 6,
   "metadata": {},
   "outputs": [
    {
     "name": "stdout",
     "output_type": "stream",
     "text": [
      "CPU times: user 946 ms, sys: 11.9 ms, total: 958 ms\n",
      "Wall time: 956 ms\n"
     ]
    }
   ],
   "source": [
    "%%time\n",
    "# Each chunk has 20K names\n",
    "names_df = pd.read_csv(\"../data/us-names.csv\", chunksize=20000, engine='c', iterator=True)\n",
    "serialize(names_df)"
   ]
  },
  {
   "cell_type": "code",
   "execution_count": null,
   "metadata": {},
   "outputs": [],
   "source": []
  }
 ],
 "metadata": {
  "environment": {
   "name": "tf2-gpu.2-3.m71",
   "type": "gcloud",
   "uri": "gcr.io/deeplearning-platform-release/tf2-gpu.2-3:m71"
  },
  "kernelspec": {
   "display_name": "Python [conda env:name_gender]",
   "language": "python",
   "name": "conda-env-name_gender-py"
  },
  "language_info": {
   "codemirror_mode": {
    "name": "ipython",
    "version": 3
   },
   "file_extension": ".py",
   "mimetype": "text/x-python",
   "name": "python",
   "nbconvert_exporter": "python",
   "pygments_lexer": "ipython3",
   "version": "3.8.10"
  }
 },
 "nbformat": 4,
 "nbformat_minor": 4
}
