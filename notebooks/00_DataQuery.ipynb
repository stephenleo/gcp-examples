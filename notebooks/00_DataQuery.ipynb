{
 "cells": [
  {
   "cell_type": "markdown",
   "metadata": {},
   "source": [
    "# BigQuery data query"
   ]
  },
  {
   "cell_type": "code",
   "execution_count": 13,
   "metadata": {},
   "outputs": [],
   "source": [
    "from google.cloud import bigquery\n",
    "from google.oauth2 import service_account\n",
    "\n",
    "credentials = service_account.Credentials.from_service_account_file(\n",
    "    \"../credentials/tokopedia-970.json\",\n",
    "    scopes=[\"https://www.googleapis.com/auth/cloud-platform\"],\n",
    ")\n",
    "\n",
    "client = bigquery.Client(credentials=credentials, project=credentials.project_id)"
   ]
  },
  {
   "cell_type": "code",
   "execution_count": 14,
   "metadata": {},
   "outputs": [
    {
     "data": {
      "text/html": [
       "<div>\n",
       "<style scoped>\n",
       "    .dataframe tbody tr th:only-of-type {\n",
       "        vertical-align: middle;\n",
       "    }\n",
       "\n",
       "    .dataframe tbody tr th {\n",
       "        vertical-align: top;\n",
       "    }\n",
       "\n",
       "    .dataframe thead th {\n",
       "        text-align: right;\n",
       "    }\n",
       "</style>\n",
       "<table border=\"1\" class=\"dataframe\">\n",
       "  <thead>\n",
       "    <tr style=\"text-align: right;\">\n",
       "      <th></th>\n",
       "      <th>name</th>\n",
       "      <th>gender</th>\n",
       "    </tr>\n",
       "  </thead>\n",
       "  <tbody>\n",
       "    <tr>\n",
       "      <th>0</th>\n",
       "      <td>Ge Mahenterissa</td>\n",
       "      <td>f</td>\n",
       "    </tr>\n",
       "    <tr>\n",
       "      <th>1</th>\n",
       "      <td>Shafa Tasha Nabilah</td>\n",
       "      <td>f</td>\n",
       "    </tr>\n",
       "    <tr>\n",
       "      <th>2</th>\n",
       "      <td>Ririn Ramanda</td>\n",
       "      <td>f</td>\n",
       "    </tr>\n",
       "    <tr>\n",
       "      <th>3</th>\n",
       "      <td>Anta</td>\n",
       "      <td>f</td>\n",
       "    </tr>\n",
       "    <tr>\n",
       "      <th>4</th>\n",
       "      <td>Nuryani Ghelis</td>\n",
       "      <td>f</td>\n",
       "    </tr>\n",
       "  </tbody>\n",
       "</table>\n",
       "</div>"
      ],
      "text/plain": [
       "                  name gender\n",
       "0      Ge Mahenterissa      f\n",
       "1  Shafa Tasha Nabilah      f\n",
       "2        Ririn Ramanda      f\n",
       "3                 Anta      f\n",
       "4       Nuryani Ghelis      f"
      ]
     },
     "execution_count": 14,
     "metadata": {},
     "output_type": "execute_result"
    }
   ],
   "source": [
    "sql = \"\"\"\n",
    "SELECT full_name as name, CASE WHEN sex=1 THEN 'm' \n",
    "                               WHEN sex=2 THEN 'f' \n",
    "                          END as gender \n",
    "FROM `tokopedia-970.voyager_dwh.bi_dim_user` \n",
    "WHERE sex=1 or sex=2\"\"\"\n",
    "names_df = client.query(sql).to_dataframe()\n",
    "names_df.head()"
   ]
  },
  {
   "cell_type": "code",
   "execution_count": 15,
   "metadata": {},
   "outputs": [],
   "source": [
    "# write to csv\n",
    "names_df.to_csv(\"../data/toko-names.csv\", index=False)"
   ]
  },
  {
   "cell_type": "code",
   "execution_count": 16,
   "metadata": {},
   "outputs": [
    {
     "data": {
      "text/plain": [
       "(43991434, 2)"
      ]
     },
     "execution_count": 16,
     "metadata": {},
     "output_type": "execute_result"
    }
   ],
   "source": [
    "names_df.shape"
   ]
  },
  {
   "cell_type": "markdown",
   "metadata": {},
   "source": [
    "# Writing to sharded tfrecords"
   ]
  },
  {
   "cell_type": "code",
   "execution_count": 1,
   "metadata": {},
   "outputs": [],
   "source": [
    "#!pip install ipywidgets"
   ]
  },
  {
   "cell_type": "code",
   "execution_count": 2,
   "metadata": {},
   "outputs": [],
   "source": [
    "#!jupyter nbextension enable --py widgetsnbextension"
   ]
  },
  {
   "cell_type": "code",
   "execution_count": 3,
   "metadata": {},
   "outputs": [],
   "source": [
    "#!sudo jupyter labextension install @jupyter-widgets/jupyterlab-manager"
   ]
  },
  {
   "cell_type": "code",
   "execution_count": 1,
   "metadata": {},
   "outputs": [],
   "source": [
    "import tensorflow as tf\n",
    "import pandas as pd\n",
    "import numpy as np"
   ]
  },
  {
   "cell_type": "code",
   "execution_count": 2,
   "metadata": {},
   "outputs": [],
   "source": [
    "def write_tfrecord(prefix, chunk, idx):\n",
    "    # Set writing options with compression\n",
    "    #options = tf.io.TFRecordOptions(compression_type=\"ZLIB\", compression_level=9)\n",
    "    options = None\n",
    "    \n",
    "    with tf.io.TFRecordWriter(\"../data/nonzip/toko_names_\"+prefix+\"_{:>03d}\".format(idx)+\".tfrecord\", options=options) as writer:       \n",
    "        for row in chunk.values:\n",
    "            features, label = row[:-1], row[-1]\n",
    "            \n",
    "            name = tf.train.Feature(bytes_list=tf.train.BytesList(value=[features[0].encode(\"utf-8\")]))\n",
    "            gender = tf.train.Feature(bytes_list=tf.train.BytesList(value=[label.encode(\"utf-8\")]))\n",
    "\n",
    "            data_dict = tf.train.Features(feature={\"name\": name, \"gender\": gender})\n",
    "            example = tf.train.Example(features=data_dict)\n",
    "\n",
    "            writer.write(example.SerializeToString())\n",
    "\n",
    "def serialize(chunk_df):\n",
    "    # Serializes inputs from a pandas dataset (read in chunks)   \n",
    "    # Write each chunk into individual tfrecord (sharding)\n",
    "    for idx, chunk in enumerate(chunk_df):\n",
    "        chunk.dropna(how=\"any\", inplace=True)\n",
    "        train_chunk, val_chunk, test_chunk = np.split(chunk.sample(frac=1), [int(.7*len(chunk)), int(.9*len(chunk))])\n",
    "\n",
    "        write_tfrecord(\"train\", train_chunk, idx)\n",
    "        write_tfrecord(\"val\", val_chunk, idx)\n",
    "        write_tfrecord(\"test\", test_chunk, idx)"
   ]
  },
  {
   "cell_type": "code",
   "execution_count": null,
   "metadata": {},
   "outputs": [],
   "source": [
    "%%time\n",
    "# Each chunk has 5M names\n",
    "names_df = pd.read_csv(\"../data/toko-names.csv\", chunksize=5000000, engine='c', iterator=True)\n",
    "serialize(names_df)"
   ]
  },
  {
   "cell_type": "code",
   "execution_count": null,
   "metadata": {},
   "outputs": [],
   "source": []
  }
 ],
 "metadata": {
  "kernelspec": {
   "display_name": "Python 3.5.3 64-bit",
   "language": "python",
   "name": "python35364bitb85df3aaf13c4cf8a904a787b39e8050"
  },
  "language_info": {
   "codemirror_mode": {
    "name": "ipython",
    "version": 3
   },
   "file_extension": ".py",
   "mimetype": "text/x-python",
   "name": "python",
   "nbconvert_exporter": "python",
   "pygments_lexer": "ipython3",
   "version": "3.5.3"
  }
 },
 "nbformat": 4,
 "nbformat_minor": 4
}
