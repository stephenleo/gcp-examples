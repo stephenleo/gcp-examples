{
 "cells": [
  {
   "cell_type": "markdown",
   "metadata": {},
   "source": [
    "## Step1: Create a sample dataset for model development and local code debug"
   ]
  },
  {
   "cell_type": "code",
   "execution_count": 1,
   "metadata": {},
   "outputs": [],
   "source": [
    "from google.cloud import bigquery\n",
    "from google.oauth2 import service_account\n",
    "\n",
    "credentials = service_account.Credentials.from_service_account_file(\n",
    "    \"../credentials/tokopedia-970.json\",\n",
    "    scopes=[\"https://www.googleapis.com/auth/cloud-platform\"],\n",
    ")\n",
    "\n",
    "client = bigquery.Client(credentials=credentials, project=credentials.project_id)"
   ]
  },
  {
   "cell_type": "code",
   "execution_count": 2,
   "metadata": {},
   "outputs": [],
   "source": [
    "sql = \"\"\"\n",
    "SELECT full_name as name, CASE WHEN sex=1 THEN 'm' \n",
    "                               WHEN sex=2 THEN 'f' \n",
    "                          END as gender ,\n",
    "                          FARM_FINGERPRINT(CAST(create_date AS STRING)) as hashdate\n",
    "FROM `tokopedia-970.voyager_dwh.bi_dim_user` \n",
    "WHERE sex=1 or sex=2\"\"\""
   ]
  },
  {
   "cell_type": "code",
   "execution_count": 3,
   "metadata": {},
   "outputs": [
    {
     "name": "stdout",
     "output_type": "stream",
     "text": [
      "There are 18080 examples in the train dataset and 6325 in the eval dataset\n"
     ]
    }
   ],
   "source": [
    "# Added the RAND() so that we can now subsample from each of the hashdates to get approximately the record counts we want\n",
    "trainQuery = \"SELECT * FROM (\" + sql + \") WHERE ABS(MOD(hashdate, 4)) < 3 AND RAND() < 0.0005\"\n",
    "evalQuery = \"SELECT * FROM (\" + sql + \") WHERE ABS(MOD(hashdate, 4)) = 3 AND RAND() < 0.0005\"\n",
    "traindf = client.query(trainQuery).to_dataframe()\n",
    "evaldf = client.query(evalQuery).to_dataframe()\n",
    "print(\"There are {} examples in the train dataset and {} in the eval dataset\".format(len(traindf), len(evaldf)))"
   ]
  },
  {
   "cell_type": "code",
   "execution_count": 4,
   "metadata": {},
   "outputs": [
    {
     "data": {
      "text/html": [
       "<div>\n",
       "<style scoped>\n",
       "    .dataframe tbody tr th:only-of-type {\n",
       "        vertical-align: middle;\n",
       "    }\n",
       "\n",
       "    .dataframe tbody tr th {\n",
       "        vertical-align: top;\n",
       "    }\n",
       "\n",
       "    .dataframe thead th {\n",
       "        text-align: right;\n",
       "    }\n",
       "</style>\n",
       "<table border=\"1\" class=\"dataframe\">\n",
       "  <thead>\n",
       "    <tr style=\"text-align: right;\">\n",
       "      <th></th>\n",
       "      <th>name</th>\n",
       "      <th>gender</th>\n",
       "      <th>hashdate</th>\n",
       "    </tr>\n",
       "  </thead>\n",
       "  <tbody>\n",
       "    <tr>\n",
       "      <th>0</th>\n",
       "      <td>eka nur</td>\n",
       "      <td>f</td>\n",
       "      <td>-8142140688890279093</td>\n",
       "    </tr>\n",
       "    <tr>\n",
       "      <th>1</th>\n",
       "      <td>mery andriani</td>\n",
       "      <td>f</td>\n",
       "      <td>996617937683627357</td>\n",
       "    </tr>\n",
       "    <tr>\n",
       "      <th>2</th>\n",
       "      <td>Ina Aprilia</td>\n",
       "      <td>f</td>\n",
       "      <td>9034066141447301174</td>\n",
       "    </tr>\n",
       "    <tr>\n",
       "      <th>3</th>\n",
       "      <td>Yudi Dyah</td>\n",
       "      <td>f</td>\n",
       "      <td>-4062936282218272378</td>\n",
       "    </tr>\n",
       "    <tr>\n",
       "      <th>4</th>\n",
       "      <td>Dian Patrisia</td>\n",
       "      <td>f</td>\n",
       "      <td>5636367441591355417</td>\n",
       "    </tr>\n",
       "  </tbody>\n",
       "</table>\n",
       "</div>"
      ],
      "text/plain": [
       "            name gender             hashdate\n",
       "0        eka nur      f -8142140688890279093\n",
       "1  mery andriani      f   996617937683627357\n",
       "2    Ina Aprilia      f  9034066141447301174\n",
       "3      Yudi Dyah      f -4062936282218272378\n",
       "4  Dian Patrisia      f  5636367441591355417"
      ]
     },
     "execution_count": 4,
     "metadata": {},
     "output_type": "execute_result"
    }
   ],
   "source": [
    "traindf.head()"
   ]
  },
  {
   "cell_type": "code",
   "execution_count": 5,
   "metadata": {},
   "outputs": [
    {
     "data": {
      "text/plain": [
       "name        0\n",
       "gender      0\n",
       "hashdate    0\n",
       "dtype: int64"
      ]
     },
     "execution_count": 5,
     "metadata": {},
     "output_type": "execute_result"
    }
   ],
   "source": [
    "traindf.isna().sum()"
   ]
  },
  {
   "cell_type": "code",
   "execution_count": 6,
   "metadata": {},
   "outputs": [
    {
     "data": {
      "text/plain": [
       "name        0\n",
       "gender      0\n",
       "hashdate    0\n",
       "dtype: int64"
      ]
     },
     "execution_count": 6,
     "metadata": {},
     "output_type": "execute_result"
    }
   ],
   "source": [
    "evaldf.isna().sum()"
   ]
  },
  {
   "cell_type": "code",
   "execution_count": 7,
   "metadata": {},
   "outputs": [],
   "source": [
    "traindf.to_csv(\"../data/train.csv\", index=False)\n",
    "evaldf.to_csv(\"../data/eval.csv\", index=False)"
   ]
  },
  {
   "cell_type": "markdown",
   "metadata": {},
   "source": [
    "## Step2: Build a distributable tensorflow data preprocessing pipeline and model"
   ]
  },
  {
   "cell_type": "code",
   "execution_count": 1,
   "metadata": {},
   "outputs": [
    {
     "name": "stdout",
     "output_type": "stream",
     "text": [
      "1.15.0\n"
     ]
    }
   ],
   "source": [
    "import string\n",
    "import tensorflow as tf\n",
    "import tensorflow_transform as tft\n",
    "import numpy as np\n",
    "tf.enable_eager_execution()\n",
    "print(tf.__version__)\n",
    "\n",
    "LETTERS = \" \" + string.ascii_lowercase\n",
    "VOCAB = \"../VOCAB\"\n",
    "EMBEDDING = 256\n",
    "filter_size=100"
   ]
  },
  {
   "cell_type": "code",
   "execution_count": 2,
   "metadata": {},
   "outputs": [],
   "source": [
    "def dynamic_padding(inp, min_size):\n",
    "    # https://stackoverflow.com/questions/42334646/tensorflow-pad-unknown-size-tensor-to-a-specific-size\n",
    "    pad_size = min_size - tf.shape(inp)[0]\n",
    "    paddings = [[0, pad_size]] # Pad behind the name with spaces to align with padding from to_tensor default_value\n",
    "    return tf.pad(inp, paddings, mode=\"CONSTANT\", constant_values=\" \") # 32 is the UTF-8 value for space\n",
    "\n",
    "def x_preprocess(x):\n",
    "    x_processed = tf.strings.lower(x)\n",
    "    try:\n",
    "        x_processed = tf.strings.unicode_split(x_processed, input_encoding=\"UTF-8\").to_tensor(default_value=\" \") #TODO: in TF2.0 can add an argument shape=[batch_size,100] to do padding/pruning here\n",
    "    except:\n",
    "        x_processed = tf.strings.unicode_split(x_processed, input_encoding=\"UTF-8\")\n",
    "    \n",
    "    # Pad only if necessary\n",
    "    x_processed = tf.cond(tf.less(tf.shape(x_processed)[1], filter_size), \n",
    "                          true_fn=lambda: tf.map_fn(lambda inp_name: dynamic_padding(inp_name, filter_size), x_processed), \n",
    "                          false_fn=lambda: tf.map_fn(lambda inp_name: tf.slice(inp_name, tf.constant([0]), tf.constant([100])), x_processed))\n",
    "    \n",
    "    #x_processed = tft.apply_vocabulary(x_processed, VOCAB, default_value=0)\n",
    "    \n",
    "    x_processed = tf.strings.unicode_decode(x_processed, 'UTF-8')-96 # make a=1\n",
    "    x_processed = tf.map_fn(lambda item: (tf.map_fn(lambda subitem: 0 if (subitem[0]<0 or subitem[0]>26) else subitem[0], item)), \n",
    "                            x_processed.to_tensor())\n",
    "    \n",
    "    return x_processed\n",
    "\n",
    "def preprocess(x, y):\n",
    "    \"\"\"tf.data compatible preprocessing\"\"\"\n",
    "    x_processed = x_preprocess(x)\n",
    "    y_processed = tf.cast(tf.equal(y, \"m\"), dtype=tf.int32)#tf.cond(tf.equal(y, \"f\"), lambda: 0.0, lambda: 1.0)\n",
    "\n",
    "    return x_processed, y_processed"
   ]
  },
  {
   "cell_type": "code",
   "execution_count": 3,
   "metadata": {},
   "outputs": [],
   "source": [
    "def _parse_function(proto):\n",
    "    # tfrecord format definiton\n",
    "    keys_to_features = {\"name\": tf.io.FixedLenFeature([], tf.string),\n",
    "                        \"gender\": tf.io.FixedLenFeature([], tf.string)}\n",
    "    \n",
    "    # Load batch examples\n",
    "    parsed_features = tf.io.parse_example(proto, keys_to_features)\n",
    "    \n",
    "    x = parsed_features[\"name\"]\n",
    "    y =  parsed_features[\"gender\"]\n",
    "       \n",
    "    return x, y"
   ]
  },
  {
   "cell_type": "code",
   "execution_count": 4,
   "metadata": {},
   "outputs": [],
   "source": [
    "# Read data\n",
    "def csv_reader_dataset(filepaths, repeat=1, n_readers=8, n_read_threads=8, shuffle_buffer_size=1000, n_parse_threads=8, batch_size=32):\n",
    "    \"\"\"Read sharded csv files, preprocess, shuffle and create batches using tf.data API\"\"\"\n",
    "    dataset = tf.data.Dataset.list_files(filepaths)\n",
    "\n",
    "    # creat a tfdataset from the csv file\n",
    "    defs = [tf.constant([\"NaN\"], dtype=tf.string)]*2\n",
    "    dataset = dataset.interleave(lambda filepath: tf.data.experimental.CsvDataset(filepath, defs, select_cols=[0,1], header=True), \n",
    "                                 cycle_length=n_readers, num_parallel_calls=n_read_threads)\n",
    "\n",
    "    dataset = dataset.map(preprocess, num_parallel_calls=n_parse_threads)\n",
    "    dataset = dataset.shuffle(shuffle_buffer_size).repeat()\n",
    "    return dataset.batch(batch_size).prefetch(1)"
   ]
  },
  {
   "cell_type": "code",
   "execution_count": 5,
   "metadata": {},
   "outputs": [],
   "source": [
    "def tfrecord_reader_dataset(filepaths, repeat=1, n_readers=8, n_read_threads=8, shuffle_buffer_size=1000, n_parse_threads=8, batch_size=32):\n",
    "    dataset = (tf.data.Dataset\n",
    "               .list_files(filepaths)\n",
    "               .interleave(tf.data.TFRecordDataset, \n",
    "                           cycle_length=tf.data.experimental.AUTOTUNE, num_parallel_calls=tf.data.experimental.AUTOTUNE)\n",
    "               .shuffle(shuffle_buffer_size).repeat()\n",
    "               .batch(batch_size, drop_remainder=True)\n",
    "               .map(_parse_function, num_parallel_calls=tf.data.experimental.AUTOTUNE)\n",
    "               .map(preprocess, num_parallel_calls=tf.data.experimental.AUTOTUNE)\n",
    "               .prefetch(tf.data.experimental.AUTOTUNE)\n",
    "              )\n",
    "    \n",
    "    return dataset"
   ]
  },
  {
   "cell_type": "code",
   "execution_count": 6,
   "metadata": {},
   "outputs": [],
   "source": [
    "# Model\n",
    "def build_dnn_model():\n",
    "    \"\"\"Construct model using tf.keras API\"\"\"\n",
    "    model = tf.keras.Sequential()\n",
    "    model.add(tf.keras.layers.Embedding(len(LETTERS), EMBEDDING, input_length=100, name=\"embedding\"))\n",
    "    model.add(tf.keras.layers.Bidirectional(tf.keras.layers.LSTM(units=128), name=\"bi-lstm\"))\n",
    "    model.add(tf.keras.layers.Dense(1, activation=\"sigmoid\", name=\"output\"))  \n",
    "    model.compile(loss='binary_crossentropy', optimizer='adam', metrics=['accuracy']) \n",
    "    return model"
   ]
  },
  {
   "cell_type": "code",
   "execution_count": 7,
   "metadata": {},
   "outputs": [
    {
     "name": "stdout",
     "output_type": "stream",
     "text": [
      "INFO:tensorflow:Reduce to /job:localhost/replica:0/task:0/device:CPU:0 then broadcast to ('/job:localhost/replica:0/task:0/device:CPU:0',).\n",
      "INFO:tensorflow:Reduce to /job:localhost/replica:0/task:0/device:CPU:0 then broadcast to ('/job:localhost/replica:0/task:0/device:CPU:0',).\n",
      "Model: \"sequential\"\n",
      "_________________________________________________________________\n",
      "Layer (type)                 Output Shape              Param #   \n",
      "=================================================================\n",
      "embedding (Embedding)        (None, 100, 256)          6912      \n",
      "_________________________________________________________________\n",
      "bi-lstm (Bidirectional)      (None, 256)               394240    \n",
      "_________________________________________________________________\n",
      "output (Dense)               (None, 1)                 257       \n",
      "=================================================================\n",
      "Total params: 401,409\n",
      "Trainable params: 401,409\n",
      "Non-trainable params: 0\n",
      "_________________________________________________________________\n",
      "None\n"
     ]
    }
   ],
   "source": [
    "# Mirrored Strategy to distribute training\n",
    "strategy = tf.distribute.MirroredStrategy()\n",
    "with strategy.scope():\n",
    "    model = build_dnn_model()\n",
    "\n",
    "# Check the model architecture\n",
    "print(model.summary())"
   ]
  },
  {
   "cell_type": "code",
   "execution_count": 8,
   "metadata": {},
   "outputs": [],
   "source": [
    "#tf.keras.utils.plot_model(model, 'dnn_model.png', show_shapes=False, rankdir='LR')"
   ]
  },
  {
   "cell_type": "markdown",
   "metadata": {},
   "source": [
    "## Step3: Train and Evaluate"
   ]
  },
  {
   "cell_type": "code",
   "execution_count": 9,
   "metadata": {},
   "outputs": [
    {
     "name": "stdout",
     "output_type": "stream",
     "text": [
      "WARNING:tensorflow:From /usr/local/lib/python3.5/dist-packages/tensorflow_core/python/ops/ragged/ragged_tensor.py:1586: where (from tensorflow.python.ops.array_ops) is deprecated and will be removed in a future version.\n",
      "Instructions for updating:\n",
      "Use tf.where in 2.0, which has the same broadcast rule as np.where\n"
     ]
    }
   ],
   "source": [
    "TRAIN_BATCH_SIZE = 512\n",
    "NUM_TRAIN_EXAMPLES = 10000 * 5 # training dataset repeats, so it will wrap around\n",
    "NUM_EVALS = 5  # how many times to evaluate\n",
    "NUM_EVAL_EXAMPLES = 1000 # enough to get a reasonable sample, but not so much that it slows down\n",
    "steps_per_epoch = NUM_TRAIN_EXAMPLES // (TRAIN_BATCH_SIZE * NUM_EVALS)\n",
    "\n",
    "#train_set = csv_reader_dataset(\"../data/train*.csv\", batch_size=TRAIN_BATCH_SIZE)\n",
    "#eval_set = csv_reader_dataset(\"../data/eval*.csv\", batch_size=NUM_EVAL_EXAMPLES).take(NUM_EVAL_EXAMPLES)\n",
    "\n",
    "train_set = tfrecord_reader_dataset(\"../data/nonzip/toko_names_train*.tfrecord\", batch_size=TRAIN_BATCH_SIZE)\n",
    "eval_set = tfrecord_reader_dataset(\"../data/nonzip/toko_names_val*.tfrecord\", batch_size=NUM_EVAL_EXAMPLES).take(NUM_EVAL_EXAMPLES)"
   ]
  },
  {
   "cell_type": "code",
   "execution_count": 10,
   "metadata": {
    "scrolled": true
   },
   "outputs": [
    {
     "name": "stdout",
     "output_type": "stream",
     "text": [
      "(<tf.Tensor: id=2302, shape=(512, 100), dtype=int32, numpy=\n",
      "array([[ 7, 18,  5, ...,  0,  0,  0],\n",
      "       [16, 21, 16, ...,  0,  0,  0],\n",
      "       [ 9, 23,  1, ...,  0,  0,  0],\n",
      "       ...,\n",
      "       [18,  9,  6, ...,  0,  0,  0],\n",
      "       [20, 15, 11, ...,  0,  0,  0],\n",
      "       [19,  1, 14, ...,  0,  0,  0]], dtype=int32)>, <tf.Tensor: id=2303, shape=(512,), dtype=int32, numpy=\n",
      "array([1, 0, 1, 0, 0, 1, 1, 1, 1, 1, 0, 1, 1, 0, 0, 1, 0, 0, 1, 0, 1, 1,\n",
      "       1, 1, 0, 0, 0, 0, 0, 1, 1, 1, 1, 1, 1, 1, 1, 1, 0, 0, 0, 1, 1, 0,\n",
      "       0, 1, 1, 1, 1, 1, 1, 0, 0, 1, 1, 1, 0, 1, 0, 1, 0, 1, 0, 1, 0, 1,\n",
      "       1, 1, 1, 1, 1, 1, 1, 1, 1, 1, 0, 1, 1, 1, 1, 1, 1, 1, 1, 1, 0, 1,\n",
      "       1, 1, 1, 0, 1, 1, 1, 0, 1, 1, 1, 1, 0, 0, 1, 0, 1, 0, 1, 1, 1, 0,\n",
      "       1, 0, 0, 0, 1, 1, 0, 1, 1, 1, 1, 1, 0, 1, 1, 1, 1, 1, 1, 0, 0, 1,\n",
      "       1, 1, 1, 0, 0, 1, 0, 0, 1, 0, 1, 1, 1, 1, 1, 1, 1, 1, 1, 1, 1, 1,\n",
      "       1, 1, 0, 1, 1, 1, 0, 0, 1, 1, 0, 1, 1, 0, 1, 1, 0, 1, 0, 0, 0, 1,\n",
      "       1, 1, 0, 1, 0, 1, 1, 1, 1, 1, 1, 1, 0, 0, 0, 0, 1, 1, 1, 0, 1, 1,\n",
      "       1, 0, 1, 0, 0, 1, 0, 0, 1, 1, 0, 0, 0, 1, 1, 1, 1, 0, 0, 0, 1, 1,\n",
      "       1, 1, 0, 1, 0, 0, 1, 1, 1, 1, 1, 1, 0, 1, 0, 1, 1, 1, 1, 1, 1, 1,\n",
      "       1, 0, 1, 0, 1, 1, 1, 1, 0, 0, 1, 0, 1, 1, 1, 0, 1, 1, 0, 1, 1, 1,\n",
      "       0, 1, 1, 0, 1, 0, 1, 1, 0, 0, 0, 0, 1, 0, 0, 0, 1, 1, 0, 1, 1, 1,\n",
      "       0, 1, 1, 1, 1, 1, 1, 1, 1, 0, 1, 0, 1, 1, 1, 1, 1, 1, 0, 0, 1, 1,\n",
      "       0, 1, 1, 1, 1, 1, 1, 1, 0, 1, 0, 1, 0, 1, 0, 1, 0, 1, 1, 1, 1, 1,\n",
      "       0, 1, 1, 0, 0, 0, 1, 1, 1, 1, 1, 1, 0, 1, 1, 1, 1, 1, 0, 1, 1, 0,\n",
      "       0, 1, 1, 0, 0, 1, 1, 0, 1, 0, 1, 1, 0, 1, 1, 1, 1, 0, 1, 1, 1, 1,\n",
      "       1, 1, 1, 0, 1, 1, 0, 0, 1, 0, 1, 1, 0, 1, 1, 1, 0, 1, 1, 1, 0, 1,\n",
      "       1, 1, 0, 1, 1, 1, 1, 1, 1, 1, 1, 1, 1, 1, 0, 1, 1, 1, 0, 1, 1, 1,\n",
      "       1, 0, 1, 1, 1, 0, 1, 1, 1, 1, 0, 1, 1, 0, 1, 0, 1, 0, 0, 1, 1, 0,\n",
      "       0, 1, 1, 1, 0, 1, 1, 1, 1, 0, 0, 1, 0, 1, 1, 0, 1, 1, 0, 1, 1, 1,\n",
      "       1, 0, 1, 0, 1, 0, 1, 0, 1, 1, 1, 1, 0, 0, 1, 1, 1, 1, 1, 0, 1, 1,\n",
      "       1, 1, 1, 1, 0, 1, 1, 0, 1, 1, 0, 0, 0, 1, 1, 0, 1, 1, 1, 1, 1, 1,\n",
      "       1, 1, 1, 1, 1, 1], dtype=int32)>)\n",
      "(<tf.Tensor: id=2304, shape=(512, 100), dtype=int32, numpy=\n",
      "array([[25, 21, 22, ...,  0,  0,  0],\n",
      "       [25, 21,  4, ...,  0,  0,  0],\n",
      "       [ 2, 15,  2, ...,  0,  0,  0],\n",
      "       ...,\n",
      "       [ 4,  9, 14, ...,  0,  0,  0],\n",
      "       [ 9,  3,  8, ...,  0,  0,  0],\n",
      "       [12,  5, 14, ...,  0,  0,  0]], dtype=int32)>, <tf.Tensor: id=2305, shape=(512,), dtype=int32, numpy=\n",
      "array([0, 1, 1, 0, 1, 0, 1, 1, 1, 0, 1, 0, 1, 1, 1, 1, 1, 1, 1, 0, 1, 0,\n",
      "       1, 0, 0, 1, 1, 1, 1, 1, 0, 0, 1, 0, 1, 1, 0, 1, 1, 0, 1, 0, 0, 1,\n",
      "       1, 1, 1, 0, 1, 1, 1, 1, 1, 1, 1, 0, 1, 0, 0, 1, 1, 1, 1, 1, 1, 0,\n",
      "       0, 1, 0, 1, 0, 1, 0, 1, 0, 1, 1, 1, 1, 1, 0, 1, 1, 1, 1, 1, 1, 0,\n",
      "       1, 0, 1, 1, 0, 1, 0, 0, 0, 0, 0, 0, 0, 0, 1, 1, 1, 1, 1, 1, 1, 1,\n",
      "       1, 0, 0, 0, 1, 1, 0, 0, 1, 1, 1, 0, 1, 1, 1, 1, 1, 1, 1, 0, 1, 1,\n",
      "       0, 1, 0, 1, 0, 0, 1, 1, 1, 0, 1, 0, 0, 1, 1, 0, 0, 0, 0, 0, 1, 1,\n",
      "       1, 0, 1, 0, 1, 1, 1, 1, 1, 1, 1, 0, 0, 1, 0, 1, 1, 1, 1, 1, 1, 1,\n",
      "       0, 1, 1, 1, 1, 1, 1, 0, 0, 1, 0, 0, 0, 0, 1, 1, 1, 1, 1, 0, 0, 1,\n",
      "       0, 1, 0, 1, 0, 1, 1, 1, 0, 1, 0, 0, 1, 0, 0, 1, 1, 1, 1, 1, 1, 0,\n",
      "       1, 1, 0, 1, 1, 1, 0, 0, 0, 1, 0, 1, 1, 1, 0, 0, 0, 0, 1, 1, 0, 1,\n",
      "       1, 1, 1, 1, 1, 1, 1, 0, 0, 1, 0, 1, 1, 0, 1, 1, 1, 1, 1, 1, 0, 0,\n",
      "       0, 0, 1, 0, 1, 0, 1, 1, 1, 1, 0, 0, 1, 1, 1, 0, 1, 0, 0, 1, 1, 1,\n",
      "       0, 1, 0, 0, 0, 1, 1, 1, 1, 1, 1, 0, 1, 0, 0, 0, 0, 0, 0, 1, 0, 0,\n",
      "       1, 1, 0, 1, 1, 1, 1, 1, 1, 1, 0, 0, 0, 0, 0, 1, 0, 1, 1, 1, 1, 1,\n",
      "       0, 1, 1, 1, 0, 1, 1, 1, 1, 0, 1, 1, 0, 1, 1, 0, 0, 0, 0, 1, 1, 1,\n",
      "       0, 1, 1, 1, 1, 1, 1, 1, 1, 0, 1, 1, 1, 1, 1, 1, 1, 1, 0, 1, 1, 0,\n",
      "       1, 1, 1, 1, 1, 0, 0, 1, 1, 0, 1, 1, 1, 1, 1, 1, 1, 1, 0, 0, 0, 0,\n",
      "       1, 0, 0, 1, 1, 1, 1, 0, 1, 1, 1, 0, 1, 1, 0, 1, 1, 1, 1, 0, 0, 1,\n",
      "       0, 0, 1, 1, 1, 1, 0, 1, 1, 0, 1, 0, 1, 1, 1, 1, 1, 1, 1, 1, 0, 0,\n",
      "       1, 1, 1, 0, 1, 0, 1, 0, 1, 1, 1, 1, 1, 1, 1, 1, 1, 1, 1, 0, 1, 1,\n",
      "       1, 1, 1, 1, 0, 1, 1, 1, 0, 1, 1, 1, 1, 0, 1, 1, 1, 1, 1, 0, 0, 0,\n",
      "       0, 1, 0, 0, 1, 0, 1, 1, 1, 0, 1, 1, 1, 1, 1, 0, 0, 0, 0, 1, 0, 0,\n",
      "       1, 1, 0, 0, 0, 0], dtype=int32)>)\n",
      "(<tf.Tensor: id=2306, shape=(512, 100), dtype=int32, numpy=\n",
      "array([[ 3, 21,  3, ...,  0,  0,  0],\n",
      "       [20, 15, 11, ...,  0,  0,  0],\n",
      "       [ 1, 18,  4, ...,  0,  0,  0],\n",
      "       ...,\n",
      "       [23,  1, 18, ...,  0,  0,  0],\n",
      "       [ 1,  8, 13, ...,  0,  0,  0],\n",
      "       [13,  9,  3, ...,  0,  0,  0]], dtype=int32)>, <tf.Tensor: id=2307, shape=(512,), dtype=int32, numpy=\n",
      "array([1, 1, 1, 1, 1, 1, 1, 1, 1, 0, 1, 1, 0, 0, 0, 1, 0, 1, 1, 1, 1, 1,\n",
      "       0, 1, 1, 1, 1, 1, 0, 1, 0, 1, 1, 1, 0, 1, 1, 1, 1, 1, 1, 0, 1, 0,\n",
      "       1, 1, 1, 1, 0, 0, 0, 1, 1, 1, 0, 1, 0, 0, 1, 1, 1, 1, 1, 1, 0, 1,\n",
      "       1, 1, 1, 0, 0, 0, 1, 1, 0, 1, 1, 1, 0, 0, 1, 0, 1, 1, 1, 0, 0, 1,\n",
      "       1, 1, 1, 0, 1, 1, 0, 0, 1, 1, 1, 1, 0, 1, 1, 1, 1, 0, 1, 0, 1, 1,\n",
      "       0, 0, 1, 1, 0, 0, 1, 1, 1, 1, 1, 1, 1, 1, 0, 1, 0, 1, 0, 1, 0, 0,\n",
      "       1, 0, 1, 0, 1, 1, 1, 1, 1, 1, 1, 1, 1, 1, 0, 1, 1, 0, 1, 1, 0, 1,\n",
      "       1, 0, 1, 1, 1, 0, 0, 1, 1, 1, 1, 0, 1, 1, 0, 1, 1, 0, 0, 1, 1, 1,\n",
      "       1, 1, 1, 1, 1, 1, 0, 1, 1, 1, 1, 0, 0, 1, 1, 1, 0, 1, 1, 1, 0, 0,\n",
      "       1, 1, 1, 1, 0, 1, 0, 0, 1, 1, 1, 1, 1, 1, 1, 0, 1, 1, 1, 0, 1, 1,\n",
      "       1, 0, 1, 1, 1, 1, 0, 1, 1, 0, 1, 0, 1, 1, 1, 1, 1, 1, 0, 0, 1, 1,\n",
      "       1, 1, 1, 0, 1, 1, 1, 1, 1, 0, 1, 1, 1, 1, 1, 0, 1, 1, 0, 1, 1, 1,\n",
      "       1, 1, 0, 1, 0, 1, 1, 1, 1, 1, 1, 1, 1, 1, 0, 1, 0, 1, 0, 0, 0, 0,\n",
      "       0, 1, 1, 1, 1, 1, 1, 1, 1, 1, 1, 0, 0, 0, 1, 1, 0, 1, 0, 0, 1, 1,\n",
      "       0, 1, 1, 0, 1, 1, 1, 0, 1, 1, 0, 1, 0, 1, 1, 1, 1, 1, 0, 1, 1, 1,\n",
      "       0, 1, 1, 1, 0, 1, 1, 1, 1, 1, 0, 0, 1, 0, 1, 1, 1, 0, 0, 0, 1, 0,\n",
      "       1, 1, 1, 1, 1, 1, 1, 1, 1, 1, 1, 0, 0, 1, 1, 0, 0, 1, 0, 1, 1, 1,\n",
      "       0, 1, 0, 1, 1, 0, 1, 1, 1, 1, 1, 1, 1, 1, 0, 1, 1, 1, 1, 1, 0, 1,\n",
      "       1, 0, 1, 1, 1, 0, 1, 0, 1, 0, 1, 0, 1, 1, 1, 1, 1, 0, 1, 0, 0, 1,\n",
      "       1, 1, 0, 1, 1, 1, 1, 1, 0, 0, 1, 0, 1, 1, 1, 1, 1, 1, 0, 1, 1, 1,\n",
      "       1, 0, 1, 0, 0, 1, 1, 0, 1, 1, 1, 0, 1, 1, 0, 0, 1, 1, 0, 1, 1, 1,\n",
      "       0, 1, 1, 0, 1, 1, 1, 1, 1, 0, 1, 0, 1, 1, 1, 1, 1, 1, 1, 1, 0, 1,\n",
      "       1, 1, 0, 0, 1, 1, 1, 1, 1, 1, 0, 1, 0, 1, 1, 1, 1, 1, 1, 1, 0, 1,\n",
      "       0, 1, 1, 1, 1, 1], dtype=int32)>)\n"
     ]
    }
   ],
   "source": [
    "def show_batch(dataset):\n",
    "    for batch in dataset.take(3):\n",
    "        print(batch)\n",
    "        \n",
    "show_batch(train_set)"
   ]
  },
  {
   "cell_type": "code",
   "execution_count": 11,
   "metadata": {},
   "outputs": [
    {
     "name": "stdout",
     "output_type": "stream",
     "text": [
      "Train for 19 steps, validate for 19 steps\n",
      "Epoch 1/5\n",
      "INFO:tensorflow:Reduce to /job:localhost/replica:0/task:0/device:CPU:0 then broadcast to ('/job:localhost/replica:0/task:0/device:CPU:0',).\n",
      "INFO:tensorflow:Reduce to /job:localhost/replica:0/task:0/device:CPU:0 then broadcast to ('/job:localhost/replica:0/task:0/device:CPU:0',).\n",
      "INFO:tensorflow:Reduce to /job:localhost/replica:0/task:0/device:CPU:0 then broadcast to ('/job:localhost/replica:0/task:0/device:CPU:0',).\n",
      "INFO:tensorflow:Reduce to /job:localhost/replica:0/task:0/device:CPU:0 then broadcast to ('/job:localhost/replica:0/task:0/device:CPU:0',).\n",
      "18/19 [===========================>..] - ETA: 2s - loss: 0.6252 - acc: 0.6603INFO:tensorflow:Reduce to /job:localhost/replica:0/task:0/device:CPU:0 then broadcast to ('/job:localhost/replica:0/task:0/device:CPU:0',).\n",
      "INFO:tensorflow:Reduce to /job:localhost/replica:0/task:0/device:CPU:0 then broadcast to ('/job:localhost/replica:0/task:0/device:CPU:0',).\n",
      "19/19 [==============================] - 96s 5s/step - loss: 0.6227 - acc: 0.6600 - val_loss: 0.5545 - val_acc: 0.6790\n",
      "Epoch 2/5\n",
      "19/19 [==============================] - 73s 4s/step - loss: 0.6313 - acc: 0.6835 - val_loss: 0.5404 - val_acc: 0.6885\n",
      "Epoch 3/5\n",
      "19/19 [==============================] - 73s 4s/step - loss: 0.5354 - acc: 0.7043 - val_loss: 0.5289 - val_acc: 0.7166\n",
      "Epoch 4/5\n",
      "19/19 [==============================] - 73s 4s/step - loss: 0.5281 - acc: 0.7152 - val_loss: 0.5204 - val_acc: 0.7244\n",
      "Epoch 5/5\n",
      "19/19 [==============================] - 73s 4s/step - loss: 0.5160 - acc: 0.7323 - val_loss: 0.5043 - val_acc: 0.7423\n"
     ]
    }
   ],
   "source": [
    "history = model.fit(train_set, validation_data=eval_set, epochs=NUM_EVALS,\n",
    "                    steps_per_epoch=steps_per_epoch, validation_steps=steps_per_epoch)"
   ]
  },
  {
   "cell_type": "code",
   "execution_count": 13,
   "metadata": {},
   "outputs": [
    {
     "data": {
      "image/png": "[encoded data removed]",
      "text/plain": [
       "<Figure size 1080x360 with 2 Axes>"
      ]
     },
     "metadata": {
      "needs_background": "light"
     },
     "output_type": "display_data"
    }
   ],
   "source": [
    "# plot the loss curve\n",
    "import matplotlib.pyplot as plt\n",
    "nrows = 1\n",
    "ncols = 2\n",
    "fig = plt.figure(figsize=(15, 5))\n",
    "\n",
    "for idx, key in enumerate(['loss', 'acc']):\n",
    "    ax = fig.add_subplot(nrows, ncols, idx+1)\n",
    "    plt.plot(history.history[key])\n",
    "    plt.plot(history.history['val_{}'.format(key)])\n",
    "    plt.title('model {}'.format(key))\n",
    "    plt.ylabel(key)\n",
    "    plt.xlabel('epoch')\n",
    "    plt.legend(['train', 'validation'], loc='upper left');"
   ]
  },
  {
   "cell_type": "code",
   "execution_count": 14,
   "metadata": {},
   "outputs": [
    {
     "data": {
      "text/plain": [
       "array([[0.5839907]], dtype=float32)"
      ]
     },
     "execution_count": 14,
     "metadata": {},
     "output_type": "execute_result"
    }
   ],
   "source": [
    "########################\n",
    "sample_data = tf.reshape(x_preprocess([\"marie stephen leo\"]), [1, 100])\n",
    "model.predict(sample_data)\n",
    "########################\n",
    "# no matter what the input, the output is the same. something is wrong. - fixed\n",
    "# The char to num process might be interfering with the embedding as that is the only difference from previous. - that's right \n",
    "# See if can change back the char tokenization to be from 0-26 instead of UTF-8 code - done"
   ]
  },
  {
   "cell_type": "code",
   "execution_count": 15,
   "metadata": {},
   "outputs": [
    {
     "data": {
      "text/plain": [
       "array([[0.43350604]], dtype=float32)"
      ]
     },
     "execution_count": 15,
     "metadata": {},
     "output_type": "execute_result"
    }
   ],
   "source": [
    "sample_data = tf.reshape(x_preprocess([\"shilpa\"]), [1, 100])\n",
    "model.predict(sample_data)"
   ]
  },
  {
   "cell_type": "code",
   "execution_count": 16,
   "metadata": {},
   "outputs": [
    {
     "data": {
      "text/plain": [
       "array([[0.57537735],\n",
       "       [0.621277  ],\n",
       "       [0.8282542 ],\n",
       "       ...,\n",
       "       [0.9744523 ],\n",
       "       [0.70362693],\n",
       "       [0.567532  ]], dtype=float32)"
      ]
     },
     "execution_count": 16,
     "metadata": {},
     "output_type": "execute_result"
    }
   ],
   "source": [
    "model.predict(eval_set)"
   ]
  },
  {
   "cell_type": "code",
   "execution_count": null,
   "metadata": {},
   "outputs": [],
   "source": []
  },
  {
   "cell_type": "code",
   "execution_count": 15,
   "metadata": {},
   "outputs": [],
   "source": [
    "# TODO: Convert from csv to tfrecords for input - Done\n",
    "# TODO: Refactor for Training job submission - Done\n",
    "# TODO: Train on all data - Done\n",
    "# TODO: Deploy serving API in AI Platform - Doesnt work as py_function in preprocessing cannot be served. Need to change to completely using tf.data API\n",
    "# TODO: Convert py_function preprocessing to tf.data - Done\n",
    "# TODO: tf.data char to num function update to give out 0 to 26 instead of utf-8 code. - Done\n",
    "## this is to fix the issue where the model's predicted output is always the same number indicating the model did not learn anything\n",
    "# TODO: Update the tf.data char to num function to fix very slow data processing during distributed learning - Done\n",
    "# TODO: Update the tf.data char to num function removing tft.apply_vocab as it was throwing error while saving the model with signatures - Done\n",
    "\n",
    "# TODO: Hyperparameter tuning\n",
    "# TODO: Use ML Platform code and update the training code\n",
    "# TODO: Deploy new serving API in AI Platform\n",
    "# TODO: Kubeflow setup for regular retrainings"
   ]
  }
 ],
 "metadata": {
  "kernelspec": {
   "display_name": "Python 3",
   "language": "python",
   "name": "python3"
  },
  "language_info": {
   "codemirror_mode": {
    "name": "ipython",
    "version": 3
   },
   "file_extension": ".py",
   "mimetype": "text/x-python",
   "name": "python",
   "nbconvert_exporter": "python",
   "pygments_lexer": "ipython3",
   "version": "3.5.3"
  }
 },
 "nbformat": 4,
 "nbformat_minor": 4
}
